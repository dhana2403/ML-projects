{
 "cells": [
  {
   "cell_type": "code",
   "execution_count": 12,
   "metadata": {},
   "outputs": [
    {
     "name": "stdout",
     "output_type": "stream",
     "text": [
      "2.1.4\n",
      "   PassengerId  Survived  Pclass  \\\n",
      "0            1         0       3   \n",
      "1            2         1       1   \n",
      "2            3         1       3   \n",
      "3            4         1       1   \n",
      "4            5         0       3   \n",
      "\n",
      "                                                Name  Sex   Age  SibSp  Parch  \\\n",
      "0                            Braund, Mr. Owen Harris    0  22.0      1      0   \n",
      "1  Cumings, Mrs. John Bradley (Florence Briggs Th...    1  38.0      1      0   \n",
      "2                             Heikkinen, Miss. Laina    1  26.0      0      0   \n",
      "3       Futrelle, Mrs. Jacques Heath (Lily May Peel)    1  35.0      1      0   \n",
      "4                           Allen, Mr. William Henry    0  35.0      0      0   \n",
      "\n",
      "             Ticket     Fare     Cabin Embarked Cabin_deck  Family_size  \n",
      "0         A/5 21171   7.2500  No Cabin        S          N            5  \n",
      "1          PC 17599  71.2833       C85        C          C            3  \n",
      "2  STON/O2. 3101282   7.9250  No Cabin        S          N            4  \n",
      "3            113803  53.1000      C123        S          C            3  \n",
      "4            373450   8.0500  No Cabin        S          N            4  \n",
      "Prediction Accuracy on Test Set: 0.9034792368125701\n"
     ]
    },
    {
     "data": {
      "image/png": "[encoded data removed]",
      "text/plain": [
       "<Figure size 640x480 with 1 Axes>"
      ]
     },
     "metadata": {},
     "output_type": "display_data"
    }
   ],
   "source": [
    "import numpy as np\n",
    "import pandas as pd\n",
    "import os \n",
    "from sklearn.preprocessing import StandardScaler\n",
    "import xgboost as xgb\n",
    "from sklearn.metrics import accuracy_score\n",
    "import matplotlib.pyplot as plt\n",
    "\n",
    "print(xgb.__version__)\n",
    "\n",
    "# Load data\n",
    "train_data = pd.read_csv('/Users/dhanalakshmijothi/Desktop/Kaggle/titanic/train.csv')\n",
    "test_data = pd.read_csv('/Users/dhanalakshmijothi/Desktop/Kaggle/titanic/test.csv')\n",
    "gender_file = pd.read_csv('/Users/dhanalakshmijothi/Desktop/Kaggle/titanic/gender_submission.csv')\n",
    "\n",
    "# Handle missing values\n",
    "train_data['Cabin'] = train_data['Cabin'].fillna('No Cabin')\n",
    "test_data['Cabin'] = train_data['Cabin'].fillna('No Cabin')\n",
    "\n",
    "train_data['Age'] = train_data['Age'].fillna(train_data['Age'].median())\n",
    "test_data['Age'] = test_data['Age'].fillna(test_data['Age'].median())\n",
    "\n",
    "train_data['Cabin_deck'] = train_data['Cabin'].apply(lambda x: str(x)[0] if pd.notnull(x) else 'No Cabin')\n",
    "test_data['Cabin_deck'] = test_data['Cabin'].apply(lambda x: str(x)[0] if pd.notnull(x) else 'No Cabin')\n",
    "\n",
    "# Feature Engineering\n",
    "train_data['Sex'] = train_data['Sex'].map({'male': 0, 'female': 1})\n",
    "test_data['Sex'] = test_data['Sex'].map({'male': 0, 'female': 1})\n",
    "\n",
    "train_data['Pclass'] = pd.to_numeric(train_data['Pclass'], errors='coerce')\n",
    "test_data['Pclass'] = pd.to_numeric(test_data['Pclass'], errors='coerce')\n",
    "\n",
    "train_data['SibSp'] = pd.to_numeric(train_data['SibSp'], errors='coerce')\n",
    "test_data['SibSp'] = pd.to_numeric(test_data['SibSp'], errors='coerce')\n",
    "\n",
    "train_data['Family_size'] = train_data['SibSp'] + train_data['Pclass'] + 1\n",
    "test_data['Family_size'] = test_data['SibSp'] + test_data['Pclass'] + 1\n",
    "\n",
    "# Align the training and test datasets\n",
    "train_test_data = train_data.align(test_data, join='left', axis=1)\n",
    "\n",
    "# Check the first few rows of the processed data\n",
    "print(train_data.head())\n",
    "\n",
    "# Prepare training and test data\n",
    "x_train = train_data.drop(columns=['PassengerId', 'Survived', 'Name', 'SibSp', 'Parch', 'Fare', 'Ticket', 'Cabin', 'Embarked'])\n",
    "y_train = train_data['Survived']\n",
    "x_test = test_data.drop(columns=['PassengerId', 'Name', 'SibSp', 'Parch', 'Fare', 'Ticket', 'Cabin', 'Embarked'])\n",
    "\n",
    "# Convert 'Cabin_deck' to numeric labels\n",
    "x_train['Cabin_deck'] = x_train['Cabin_deck'].astype('category').cat.codes\n",
    "x_test['Cabin_deck'] = x_test['Cabin_deck'].astype('category').cat.codes\n",
    "\n",
    "# Train the XGBoost model\n",
    "model = xgb.XGBClassifier()\n",
    "model.fit(x_train, y_train)\n",
    "\n",
    "# Prediction \n",
    "y_pred = model.predict(x_test)\n",
    "print(f\"Prediction Accuracy on Test Set: {accuracy_score(y_train, model.predict(x_train))}\")\n",
    "\n",
    "# Plot feature importance\n",
    "xgb.plot_importance(model)\n",
    "plt.show()\n",
    "\n",
    "# Create a submission DataFrame\n",
    "submission = pd.DataFrame({\n",
    "    'PassengerId': test_data['PassengerId'],\n",
    "    'Survived': y_pred\n",
    "})\n",
    "\n",
    "# Save the submission to a CSV file\n",
    "submission.to_csv('/Users/dhanalakshmijothi/Desktop/Kaggle/titanic/submission.csv', index=False)\n",
    "\n",
    "\n",
    "\n"
   ]
  },
  {
   "cell_type": "code",
   "execution_count": null,
   "metadata": {},
   "outputs": [],
   "source": [
    "\n",
    "\n"
   ]
  }
 ],
 "metadata": {
  "kernelspec": {
   "display_name": "r-tensorflow",
   "language": "python",
   "name": "python3"
  },
  "language_info": {
   "codemirror_mode": {
    "name": "ipython",
    "version": 3
   },
   "file_extension": ".py",
   "mimetype": "text/x-python",
   "name": "python",
   "nbconvert_exporter": "python",
   "pygments_lexer": "ipython3",
   "version": "3.12.5"
  }
 },
 "nbformat": 4,
 "nbformat_minor": 2
}
