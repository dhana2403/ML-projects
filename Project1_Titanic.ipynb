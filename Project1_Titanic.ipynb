{
 "cells": [
  {
   "cell_type": "code",
   "execution_count": 2,
   "metadata": {},
   "outputs": [
    {
     "name": "stdout",
     "output_type": "stream",
     "text": [
      "   PassengerId  Survived  Pclass  \\\n",
      "0            1         0       3   \n",
      "1            2         1       1   \n",
      "2            3         1       3   \n",
      "3            4         1       1   \n",
      "4            5         0       3   \n",
      "\n",
      "                                                Name     Sex   Age  SibSp  \\\n",
      "0                            Braund, Mr. Owen Harris    male  22.0      1   \n",
      "1  Cumings, Mrs. John Bradley (Florence Briggs Th...  female  38.0      1   \n",
      "2                             Heikkinen, Miss. Laina  female  26.0      0   \n",
      "3       Futrelle, Mrs. Jacques Heath (Lily May Peel)  female  35.0      1   \n",
      "4                           Allen, Mr. William Henry    male  35.0      0   \n",
      "\n",
      "   Parch            Ticket     Fare Cabin Embarked  \n",
      "0      0         A/5 21171   7.2500   NaN        S  \n",
      "1      0          PC 17599  71.2833   C85        C  \n",
      "2      0  STON/O2. 3101282   7.9250   NaN        S  \n",
      "3      0            113803  53.1000  C123        S  \n",
      "4      0            373450   8.0500   NaN        S  \n",
      "   PassengerId  Pclass                                          Name     Sex  \\\n",
      "0          892       3                              Kelly, Mr. James    male   \n",
      "1          893       3              Wilkes, Mrs. James (Ellen Needs)  female   \n",
      "2          894       2                     Myles, Mr. Thomas Francis    male   \n",
      "3          895       3                              Wirz, Mr. Albert    male   \n",
      "4          896       3  Hirvonen, Mrs. Alexander (Helga E Lindqvist)  female   \n",
      "\n",
      "    Age  SibSp  Parch   Ticket     Fare Cabin Embarked  \n",
      "0  34.5      0      0   330911   7.8292   NaN        Q  \n",
      "1  47.0      1      0   363272   7.0000   NaN        S  \n",
      "2  62.0      0      0   240276   9.6875   NaN        Q  \n",
      "3  27.0      0      0   315154   8.6625   NaN        S  \n",
      "4  22.0      1      1  3101298  12.2875   NaN        S  \n"
     ]
    }
   ],
   "source": [
    "import pandas as pd\n",
    "\n",
    "\n",
    "train_data = pd.read_csv(\"/Users/dhanalakshmijothi/Desktop/Kaggle/titanic/train.csv\")\n",
    "test_data = pd.read_csv(\"/Users/dhanalakshmijothi/Desktop/Kaggle/titanic/test.csv\")\n",
    "\n",
    "print(train_data.head())\n",
    "print(test_data.head())\n"
   ]
  },
  {
   "cell_type": "code",
   "execution_count": 3,
   "metadata": {},
   "outputs": [
    {
     "name": "stdout",
     "output_type": "stream",
     "text": [
      "PassengerId      0\n",
      "Survived         0\n",
      "Pclass           0\n",
      "Name             0\n",
      "Sex              0\n",
      "Age            177\n",
      "SibSp            0\n",
      "Parch            0\n",
      "Ticket           0\n",
      "Fare             0\n",
      "Cabin          687\n",
      "Embarked         2\n",
      "dtype: int64\n",
      "              min       max\n",
      "PassengerId  1.00  891.0000\n",
      "Survived     0.00    1.0000\n",
      "Pclass       1.00    3.0000\n",
      "Age          0.42   80.0000\n",
      "SibSp        0.00    8.0000\n",
      "Parch        0.00    6.0000\n",
      "Fare         0.00  512.3292\n"
     ]
    },
    {
     "data": {
      "image/png": "[encoded data removed]",
      "text/plain": [
       "<Figure size 640x480 with 1 Axes>"
      ]
     },
     "metadata": {},
     "output_type": "display_data"
    }
   ],
   "source": [
    "import matplotlib.pyplot as plt\n",
    "import seaborn as sns\n",
    "\n",
    "missing_values = train_data.isnull().sum()\n",
    "print(missing_values)\n",
    "\n",
    "outliers = train_data.describe().loc[['min', 'max']].T\n",
    "print(outliers)\n",
    "\n",
    "#missing values in Age, Cabin, Embarked\n",
    "age = pd.DataFrame({\n",
    "    'id' : train_data['PassengerId'],\n",
    "    'age': train_data['Age']\n",
    "})\n",
    "\n",
    "#plt.hist(age['age'].dropna(), bins=100, color='lightblue', edgecolor='black', alpha=0.6, label='Histogram')\n",
    "#sns.kdeplot(age['age'].dropna(), color='red', linewidth=2, label='KDE Curve')\n",
    "\n",
    "sns.histplot(age['age'].dropna(), bins=100, kde=True, color='lightblue', edgecolor='black')\n",
    "plt.title(\"Distribution of Age\")\n",
    "plt.xlabel('id')\n",
    "plt.ylabel('age')\n",
    "plt.show()\n",
    "\n",
    "train_data['Age'] = train_data['Age'].fillna(train_data['Age'].median())\n",
    "test_data['Age'] = test_data['Age'].fillna(test_data['Age'].median())\n",
    "\n",
    "train_data['Embarked'] = train_data['Embarked'].fillna(train_data['Embarked'].mode)\n",
    "test_data['Embarked'] = test_data['Embarked'].fillna(test_data['Embarked'].mode)\n",
    "\n",
    "train_data['Cabin_deck'] = train_data['Cabin'].str[0]\n",
    "test_data['Cabin_deck'] = test_data['Cabin'].str[0]\n",
    "\n",
    "train_data['Cabin_deck'] = train_data['Cabin_deck'].fillna('U')\n",
    "test_data['Cabin_deck'] = test_data['Cabin_deck'].fillna('U')\n"
   ]
  },
  {
   "cell_type": "code",
   "execution_count": null,
   "metadata": {},
   "outputs": [],
   "source": []
  }
 ],
 "metadata": {
  "kernelspec": {
   "display_name": "r-tensorflow",
   "language": "python",
   "name": "python3"
  },
  "language_info": {
   "codemirror_mode": {
    "name": "ipython",
    "version": 3
   },
   "file_extension": ".py",
   "mimetype": "text/x-python",
   "name": "python",
   "nbconvert_exporter": "python",
   "pygments_lexer": "ipython3",
   "version": "3.12.5"
  }
 },
 "nbformat": 4,
 "nbformat_minor": 2
}
