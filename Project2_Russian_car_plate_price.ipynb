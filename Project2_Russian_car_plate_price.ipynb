{
 "cells": [
  {
   "cell_type": "code",
   "execution_count": 1,
   "metadata": {},
   "outputs": [
    {
     "name": "stdout",
     "output_type": "stream",
     "text": [
      "   id      plate                 date   price\n",
      "0   1  X059CP797  2024-12-26 00:00:00   65000\n",
      "1   2  Y800MH790  2024-07-12 21:31:37  100000\n",
      "2   3   A212TX77  2024-04-18 00:00:00  290000\n",
      "3   4  P001AY199  2025-01-03 00:27:15  680000\n",
      "4   5  P001AY199  2025-01-10 09:32:41  750000\n",
      "      id      plate                 date  price\n",
      "0  51636  P700TT790  2025-01-27 00:00:00    NaN\n",
      "1  51637  M081TX797  2025-02-10 00:00:00    NaN\n",
      "2  51638  T333HX777  2025-02-11 00:00:00    NaN\n",
      "3  51639  H744BH977  2025-02-03 00:00:00    NaN\n",
      "4  51640  X066EM777  2025-02-12 00:00:00    NaN\n"
     ]
    }
   ],
   "source": [
    "import pandas as pd \n",
    "\n",
    "train_data = pd.read_csv(\"/Users/dhanalakshmijothi/Desktop/Kaggle/russian-car-plates-prices-prediction/train.csv\")\n",
    "test_data = pd.read_csv(\"/Users/dhanalakshmijothi/Desktop/Kaggle/russian-car-plates-prices-prediction/test.csv\")\n",
    "\n",
    "print(train_data.head())\n",
    "print(test_data.head())"
   ]
  },
  {
   "cell_type": "code",
   "execution_count": 2,
   "metadata": {},
   "outputs": [
    {
     "name": "stdout",
     "output_type": "stream",
     "text": [
      "id       0\n",
      "plate    0\n",
      "date     0\n",
      "price    0\n",
      "dtype: int64\n",
      "                 id         price\n",
      "count  51635.000000  5.163500e+04\n",
      "mean   25818.000000  4.532253e+05\n",
      "std    14905.884912  1.793287e+06\n",
      "min        1.000000  2.000000e+04\n",
      "25%    12909.500000  7.000000e+04\n",
      "50%    25818.000000  1.500000e+05\n",
      "75%    38726.500000  3.600000e+05\n",
      "max    51635.000000  1.000000e+08\n"
     ]
    }
   ],
   "source": [
    "missing_values = train_data.isnull().sum()\n",
    "print(missing_values)\n",
    "\n",
    "outlier = train_data.describe()\n",
    "print(outlier)"
   ]
  },
  {
   "cell_type": "code",
   "execution_count": 17,
   "metadata": {},
   "outputs": [],
   "source": [
    "import numpy as np\n",
    "\n",
    "train_data['region_code'] = train_data['plate'].str[6:]\n",
    "test_data['region_code'] = test_data['plate'].str[6:]\n",
    "\n",
    "train_data['region_code_letters'] = train_data['plate'].str[:3]\n",
    "test_data['region_code_letters'] = test_data['plate'].str[:3]\n",
    "\n",
    "train_data['date'] = pd.to_datetime(train_data['date'])\n",
    "train_data['only_date'] = train_data['date'].dt.date\n",
    "train_data['only_time'] = train_data['date'].dt.time\n",
    "test_data['date'] = pd.to_datetime(test_data['date'])\n",
    "test_data['only_date'] = test_data['date'].dt.date\n",
    "test_data['only_time'] = test_data['date'].dt.time\n",
    "\n",
    "train_data['log_price'] = np.log1p(train_data['price'])\n",
    "\n",
    "from sklearn.preprocessing import LabelEncoder\n",
    "\n",
    "encoder = LabelEncoder()\n",
    "\n",
    "train_data['region_code'] = encoder.fit_transform(train_data['region_code'])\n",
    "test_data['region_code'] = encoder.transform(test_data['region_code'])\n",
    "\n",
    "train_data['region_code_letters'] = encoder.fit_transform(train_data['region_code_letters'])\n",
    "test_data['region_code_letters'] = encoder.transform(test_data['region_code_letters'])\n",
    "\n",
    "train_data['only_date'] = pd.to_datetime(train_data['only_date'])\n",
    "test_data['only_date'] = pd.to_datetime(test_data['only_date'])\n",
    "\n",
    "# Extract features from date\n",
    "train_data['year'] = train_data['only_date'].dt.year\n",
    "train_data['month'] = train_data['only_date'].dt.month\n",
    "train_data['day'] = train_data['only_date'].dt.day\n",
    "test_data['year'] = test_data['only_date'].dt.year\n",
    "test_data['month'] = test_data['only_date'].dt.month\n",
    "test_data['day'] = test_data['only_date'].dt.day"
   ]
  },
  {
   "cell_type": "code",
   "execution_count": 31,
   "metadata": {},
   "outputs": [
    {
     "name": "stdout",
     "output_type": "stream",
     "text": [
      "MSE on validation set: 0.7632\n",
      "Cross-validation scores: [-0.78778254 -0.79658428 -0.80534746 -0.78713955 -0.80438907]\n"
     ]
    }
   ],
   "source": [
    "from sklearn.preprocessing import OneHotEncoder\n",
    "\n",
    "X = train_data.drop(columns = ['id', 'plate', 'date', 'price', 'log_price', 'only_time', 'only_date'])\n",
    "Y = train_data['log_price']\n",
    "X_test = test_data.drop(columns= ['id', 'plate', 'date', 'price', 'only_time', 'only_date'])\n",
    "\n",
    "from sklearn.model_selection import train_test_split\n",
    "\n",
    "X_train, X_valid, Y_train, Y_valid = train_test_split(X, Y, test_size=0.2, random_state=42)\n",
    "\n",
    "import xgboost as xgb\n",
    "\n",
    "base_model = xgb.XGBRegressor(objective ='reg:squarederror', n_estimators = 200, max_depth = 5)\n",
    "base_model.fit(X_train, Y_train)\n",
    "\n",
    "train_pred = base_model.predict(X_train)\n",
    "X_valid_pred = base_model.predict(X_valid)\n",
    "\n",
    "from sklearn.metrics import mean_squared_error\n",
    "\n",
    "mse = mean_squared_error(Y_valid, X_valid_pred)\n",
    "\n",
    "print(f'MSE on validation set: {mse:.4f}')\n",
    "\n",
    "from sklearn.model_selection import cross_val_score\n",
    "\n",
    "cv_scores = cross_val_score(base_model, X, Y, cv=5, scoring='neg_mean_squared_error')\n",
    "print(f'Cross-validation scores: {cv_scores}')\n"
   ]
  },
  {
   "cell_type": "code",
   "execution_count": 38,
   "metadata": {},
   "outputs": [
    {
     "name": "stdout",
     "output_type": "stream",
     "text": [
      "MSE on metamodel validation set: 0.7702\n",
      "Validation SMAPE: 5.393798369738482\n"
     ]
    },
    {
     "data": {
      "image/png": "[encoded data removed]",
      "text/plain": [
       "<Figure size 640x480 with 1 Axes>"
      ]
     },
     "metadata": {},
     "output_type": "display_data"
    },
    {
     "name": "stdout",
     "output_type": "stream",
     "text": [
      "Submission file created successfully.\n"
     ]
    }
   ],
   "source": [
    "from sklearn.linear_model import LinearRegression\n",
    "\n",
    "meta_model = LinearRegression()\n",
    "meta_model.fit(train_pred.reshape(-1,1), Y_train)\n",
    "\n",
    "meta_model_pred = meta_model.predict(X_valid_pred.reshape(-1,1))\n",
    "\n",
    "mse = mean_squared_error(Y_valid, meta_model_pred)\n",
    "print(f'MSE on metamodel validation set: {mse:.4f}')\n",
    "\n",
    "# Calculate SMAPE for validation set\n",
    "def smape(y_true, y_pred):\n",
    "    numerator = np.abs(y_true - y_pred)\n",
    "    denominator = (np.abs(y_true) + np.abs(y_pred)) / 2\n",
    "    return 100 * np.mean(numerator / denominator)\n",
    "\n",
    "# Calculate SMAPE on validation predictions\n",
    "smape_score = smape(Y_valid, meta_model_pred)\n",
    "print(f'Validation SMAPE: {smape_score}')\n",
    "\n",
    "test_data_pred = base_model.predict(X_test)\n",
    "final_pred = meta_model.predict(test_data_pred.reshape(-1,1))\n",
    "\n",
    "final_pred = np.expm1(final_pred)\n",
    "\n",
    "submission = pd.DataFrame({\n",
    "    'id': test_data['id'],\n",
    "    'price' : final_pred\n",
    "})\n",
    "\n",
    "import matplotlib.pyplot as plt \n",
    "\n",
    "plt.hist(submission, bins=100)\n",
    "plt.title(\"Distribution of Predicted Prices\")\n",
    "plt.xlabel(\"id\")\n",
    "plt.ylabel(\"price\")\n",
    "plt.savefig(\"/Users/dhanalakshmijothi/Desktop/Kaggle/russian-car-plates-prices-prediction/predicted_price_distribution.jpg\", dpi = 300, bbox_inches = 'tight')\n",
    "plt.show()\n",
    "\n",
    "submission.to_csv('/Users/dhanalakshmijothi/Desktop/Kaggle/russian-car-plates-prices-prediction/submission.csv', index=False)\n",
    "\n",
    "print('Submission file created successfully.')"
   ]
  }
 ],
 "metadata": {
  "kernelspec": {
   "display_name": "r-tensorflow",
   "language": "python",
   "name": "python3"
  },
  "language_info": {
   "codemirror_mode": {
    "name": "ipython",
    "version": 3
   },
   "file_extension": ".py",
   "mimetype": "text/x-python",
   "name": "python",
   "nbconvert_exporter": "python",
   "pygments_lexer": "ipython3",
   "version": "3.12.5"
  }
 },
 "nbformat": 4,
 "nbformat_minor": 2
}
